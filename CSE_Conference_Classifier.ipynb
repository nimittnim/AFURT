{
 "cells": [
  {
   "cell_type": "code",
   "execution_count": 27,
   "metadata": {},
   "outputs": [],
   "source": [
    "from bs4 import BeautifulSoup\n",
    "import requests\n",
    "from urllib.parse import quote_plus\n",
    "\n",
    "\n",
    "def CORE_rank(title):\n",
    "  title=title.strip()\n",
    "  search_title = quote_plus(title)\n",
    "  result_url=f'http://portal.core.edu.au/conf-ranks/?search={search_title}&by=all&source=CORE2023'\n",
    "  response = requests.get(result_url)\n",
    "  if response.status_code==200:\n",
    "    html_content = response.content\n",
    "    soup = BeautifulSoup(html_content, 'html.parser')\n",
    "    rankings_table = soup.find('table')\n",
    "    if rankings_table:\n",
    "      rows = rankings_table.find_all('tr')\n",
    "      if(len(rows)!=2): \n",
    "        print(\"Multiple entries found, enter correct and specific paper name\")\n",
    "        return\n",
    "      row = rankings_table.find('tr').find_next('tr')\n",
    "      cells = row.find_all('td')\n",
    "      conference_name = cells[0].text.strip()\n",
    "      assert(conference_name.lower()==title.lower())\n",
    "      rank = cells[3].text.strip()\n",
    "      return rank\n",
    "    else:\n",
    "      print(\"No results found\")\n",
    "      return\n",
    "  else:\n",
    "    print(title,\" Page not found 0\")\n",
    "    return"
   ]
  },
  {
   "cell_type": "code",
   "execution_count": 28,
   "metadata": {},
   "outputs": [
    {
     "name": "stdout",
     "output_type": "stream",
     "text": [
      "C\n",
      "National:India\n",
      "No results found\n",
      "None\n",
      "Multiple entries found, enter correct and specific paper name\n",
      "None\n"
     ]
    }
   ],
   "source": [
    "print(CORE_rank(\"IEEE/IFIP International Conference on Embedded and Ubiquitous Computing \"))\n",
    "print(CORE_rank(\"IEEE International Conference on Cloud Computing in Emerging Markets\"))\n",
    "print(CORE_rank(\"xyz\"))\n",
    "print(CORE_rank(\"ieee\"))"
   ]
  }
 ],
 "metadata": {
  "kernelspec": {
   "display_name": "Python 3 (ipykernel)",
   "language": "python",
   "name": "python3"
  },
  "language_info": {
   "codemirror_mode": {
    "name": "ipython",
    "version": 3
   },
   "file_extension": ".py",
   "mimetype": "text/x-python",
   "name": "python",
   "nbconvert_exporter": "python",
   "pygments_lexer": "ipython3",
   "version": "3.10.8"
  }
 },
 "nbformat": 4,
 "nbformat_minor": 2
}
