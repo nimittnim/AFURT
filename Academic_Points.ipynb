{
 "cells": [
  {
   "cell_type": "code",
   "execution_count": 3,
   "metadata": {},
   "outputs": [],
   "source": [
    "# just a sample dataset, could also be .csv file\n",
    "import pandas as pd\n",
    "\n",
    "universities = [\n",
    "    {\"University\": \"Harvard\", \"Tier\": 1},\n",
    "    {\"University\": \"Stanford\", \"Tier\": 1},\n",
    "    {\"University\": \"MIT\", \"Tier\": 1},\n",
    "    {\"University\": \"Yale\", \"Tier\": 1},\n",
    "    {\"University\": \"Princeton\", \"Tier\": 1},\n",
    "    {\"University\": \"Columbia\", \"Tier\": 2},\n",
    "    {\"University\": \"UCLA\", \"Tier\": 2},\n",
    "    {\"University\": \"University of Toronto\", \"Tier\": 2},\n",
    "    {\"University\": \"Oxford\", \"Tier\": 3},\n",
    "    {\"University\": \"Cambridge\", \"Tier\": 3},\n",
    "]\n",
    "\n",
    "colleges = [\n",
    "    {\"College\": \"Indian Institute of Technology Bombay\", \"Tier\": 1},\n",
    "    {\"College\": \"Indian Institute of Technology Delhi\", \"Tier\": 1},\n",
    "    {\"College\": \"Indian Institute of Technology Madras\", \"Tier\": 1},\n",
    "    {\"College\": \"National Institute of Technology Surathkal\", \"Tier\": 2},\n",
    "    {\"College\": \"Manipal Institute of Technology\", \"Tier\": 2},\n",
    "    {\"College\": \"Anna University, Chennai\", \"Tier\": 2},\n",
    "    {\"College\": \"Amrita School of Engineering\", \"Tier\": 3},\n",
    "    {\"College\": \"XYZ Engineering College\", \"Tier\": 3},\n",
    "]\n",
    "\n",
    "universities = pd.DataFrame(universities)\n",
    "colleges = pd.DataFrame(colleges)"
   ]
  },
  {
   "cell_type": "code",
   "execution_count": 4,
   "metadata": {},
   "outputs": [],
   "source": [
    "def calculate_10th_grade_score(percentage):\n",
    "    if percentage > 85:\n",
    "        return 2\n",
    "    elif percentage > 75:\n",
    "        return 1.5\n",
    "    elif percentage > 60:\n",
    "        return 0\n",
    "    return None\n",
    "\n",
    "def calculate_12th_grade_score(percentage):\n",
    "    if percentage > 85:\n",
    "        return 2\n",
    "    elif percentage > 75:\n",
    "        return 1.5\n",
    "    elif percentage > 60:\n",
    "        return 0\n",
    "    return None\n",
    "\n",
    "def ug_score(college_tier):\n",
    "    if college_tier == 1:\n",
    "        return 2\n",
    "    elif college_tier == 2:\n",
    "        return 1\n",
    "    return 0\n",
    "\n",
    "def calculate_btech_score(marks):\n",
    "    if marks == 'First Class with Gold':\n",
    "        return 2\n",
    "    elif marks == 'First Class':\n",
    "        return 1\n",
    "    return None\n",
    "\n",
    "def calculate_mtech_score(marks):\n",
    "    if marks == 'First Class with Gold':\n",
    "        return 2\n",
    "    elif marks == 'First Class':\n",
    "        return 1\n",
    "    return 0\n",
    "\n",
    "def calculate_phd_score(university_tier, marks):\n",
    "    if university_tier == 1 and marks == 'First Class':\n",
    "        return 2\n",
    "    elif university_tier == 1:\n",
    "        return 1\n",
    "    elif marks == 'First Class':\n",
    "        return 0\n",
    "    return None\n",
    "\n",
    "def calculate_academic_score(grade_10th, grade_12th, btech_marks,ug, mtech_marks, university, phd_marks):\n",
    "\n",
    "    university_row = universities[universities['University'] == university]\n",
    "    university_tier = university_row['Tier'].values[0] if not university_row.empty else 3\n",
    "\n",
    "    college_row = colleges[colleges['College'] == ug]\n",
    "    college_tier = college_row['Tier'].values[0] if not college_row.empty else 3\n",
    "\n",
    "    factors = [\n",
    "        calculate_10th_grade_score(grade_10th),\n",
    "        calculate_12th_grade_score(grade_12th),\n",
    "        calculate_btech_score(btech_marks),\n",
    "        ug_score(college_tier),\n",
    "        calculate_mtech_score(mtech_marks),\n",
    "        calculate_phd_score(university_tier, phd_marks)\n",
    "    ]\n",
    "    if None in factors:\n",
    "        return None\n",
    "    return sum(factors) / len(factors)"
   ]
  },
  {
   "cell_type": "code",
   "execution_count": 5,
   "metadata": {},
   "outputs": [
    {
     "name": "stdout",
     "output_type": "stream",
     "text": [
      "1.75\n"
     ]
    }
   ],
   "source": [
    "academic_score = calculate_academic_score(90, 80, 'First Class','Indian Institute of Technology Madras','First Class with Gold', 'Harvard', 'First Class')\n",
    "print(academic_score)"
   ]
  }
 ],
 "metadata": {
  "kernelspec": {
   "display_name": "Python 3",
   "language": "python",
   "name": "python3"
  },
  "language_info": {
   "codemirror_mode": {
    "name": "ipython",
    "version": 3
   },
   "file_extension": ".py",
   "mimetype": "text/x-python",
   "name": "python",
   "nbconvert_exporter": "python",
   "pygments_lexer": "ipython3",
   "version": "3.11.1"
  },
  "orig_nbformat": 4,
  "vscode": {
   "interpreter": {
    "hash": "aee8b7b246df8f9039afb4144a1f6fd8d2ca17a180786b69acc140d282b71a49"
   }
  }
 },
 "nbformat": 4,
 "nbformat_minor": 2
}
